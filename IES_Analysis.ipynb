{
  "nbformat": 4,
  "nbformat_minor": 0,
  "metadata": {
    "colab": {
      "provenance": [],
      "mount_file_id": "18TNQLbhN6d3nY4dH34g39MRTZkX7SaL3",
      "authorship_tag": "ABX9TyNY8s+Hw9jqT727V4ijd6iu",
      "include_colab_link": true
    },
    "kernelspec": {
      "name": "python3",
      "display_name": "Python 3"
    },
    "language_info": {
      "name": "python"
    }
  },
  "cells": [
    {
      "cell_type": "markdown",
      "metadata": {
        "id": "view-in-github",
        "colab_type": "text"
      },
      "source": [
        "<a href=\"https://colab.research.google.com/github/Tiru-Kaggundi/Trade_Stuff/blob/main/IES_Analysis.ipynb\" target=\"_parent\"><img src=\"https://colab.research.google.com/assets/colab-badge.svg\" alt=\"Open In Colab\"/></a>"
      ]
    },
    {
      "cell_type": "code",
      "execution_count": null,
      "metadata": {
        "id": "uDdfFzxk3a9C"
      },
      "outputs": [],
      "source": [
        "import matplotlib.pyplot as plt\n",
        "import seaborn as sns\n",
        "from scipy.stats import norm\n",
        "import pandas as pd\n",
        "from google.colab import files\n",
        "import numpy as np"
      ]
    },
    {
      "cell_type": "code",
      "source": [
        "# download the file from Google Drive\n",
        "from google.colab import drive\n",
        "drive.mount('/content/gdrive')\n"
      ],
      "metadata": {
        "id": "phtghajV4J-V",
        "colab": {
          "base_uri": "https://localhost:8080/"
        },
        "outputId": "555afbe6-7208-4d79-8093-a52e20a73246"
      },
      "execution_count": null,
      "outputs": [
        {
          "output_type": "stream",
          "name": "stdout",
          "text": [
            "Mounted at /content/gdrive\n"
          ]
        }
      ]
    },
    {
      "cell_type": "code",
      "source": [
        "# read the excel file from drive into a Pandas DataFrame\n",
        "df = pd.read_excel(\"/content/gdrive/MyDrive/IES_Claim_File.xlsx\")\n",
        "print(df.columns)\n",
        "print(df.shape)\n",
        "df.head()"
      ],
      "metadata": {
        "colab": {
          "base_uri": "https://localhost:8080/",
          "height": 523
        },
        "id": "6y_ROXEf6eJb",
        "outputId": "10565ff0-3d70-40ca-8e2c-979f58d5a438"
      },
      "execution_count": null,
      "outputs": [
        {
          "output_type": "stream",
          "name": "stdout",
          "text": [
            "Index(['IEC_Number', 'bank_name', 'UIN_NO', 'SUBVENTION_RATE_OF_INTEREST',\n",
            "       'TOTAL_LOAN_AMOUNT_DISBURSED_INR', 'LOAN_TENURE_IN_MONTH',\n",
            "       'PRIOR_SUBVENTION_RATE_OF_INTEREST',\n",
            "       'AFTER_SUBVENTION_RATE_OF_INTEREST', 'NET_SUBVENTION_VALUE_INR',\n",
            "       'MSEME_NONMSME', 'IS_APPLICANT', 'IS_APPLICANT_NE_STATE'],\n",
            "      dtype='object')\n",
            "(589281, 12)\n"
          ]
        },
        {
          "output_type": "execute_result",
          "data": {
            "text/plain": [
              "   IEC_Number               bank_name           UIN_NO  \\\n",
              "0   493021019  KARNATAKA BANK LIMITED  IES00010394AM23   \n",
              "1   509041256  KARNATAKA BANK LIMITED  IES00011483AM23   \n",
              "2   502052619    PUNJAB NATIONAL BANK  IES00017072AM23   \n",
              "3  3211000721        KARUR VYSYA BANK  IES00017568AM23   \n",
              "4  3217507533               AXIS BANK  IES00000870AM23   \n",
              "\n",
              "   SUBVENTION_RATE_OF_INTEREST  TOTAL_LOAN_AMOUNT_DISBURSED_INR  \\\n",
              "0                          3.0                          15000.0   \n",
              "1                          3.0                          15000.0   \n",
              "2                          3.0                          21195.0   \n",
              "3                          3.0                         300000.0   \n",
              "4                          3.0                         500000.0   \n",
              "\n",
              "   LOAN_TENURE_IN_MONTH  PRIOR_SUBVENTION_RATE_OF_INTEREST  \\\n",
              "0                   270                              10.11   \n",
              "1                   270                              11.83   \n",
              "2                     1                               7.80   \n",
              "3                   120                              10.35   \n",
              "4                     7                               8.35   \n",
              "\n",
              "   AFTER_SUBVENTION_RATE_OF_INTEREST  NET_SUBVENTION_VALUE_INR MSEME_NONMSME  \\\n",
              "0                               7.11                       1.0          MSME   \n",
              "1                               8.83                       1.0          MSME   \n",
              "2                               4.80                       1.0          MSME   \n",
              "3                               7.35                       1.0          MSME   \n",
              "4                               5.35                       1.0      NON-MSME   \n",
              "\n",
              "  IS_APPLICANT IS_APPLICANT_NE_STATE  \n",
              "0          NaN                    No  \n",
              "1          NaN                    No  \n",
              "2          NaN                    No  \n",
              "3          NaN                    No  \n",
              "4          NaN                    No  "
            ],
            "text/html": [
              "\n",
              "  <div id=\"df-b989685e-2028-4a2d-b485-5ca39752000b\">\n",
              "    <div class=\"colab-df-container\">\n",
              "      <div>\n",
              "<style scoped>\n",
              "    .dataframe tbody tr th:only-of-type {\n",
              "        vertical-align: middle;\n",
              "    }\n",
              "\n",
              "    .dataframe tbody tr th {\n",
              "        vertical-align: top;\n",
              "    }\n",
              "\n",
              "    .dataframe thead th {\n",
              "        text-align: right;\n",
              "    }\n",
              "</style>\n",
              "<table border=\"1\" class=\"dataframe\">\n",
              "  <thead>\n",
              "    <tr style=\"text-align: right;\">\n",
              "      <th></th>\n",
              "      <th>IEC_Number</th>\n",
              "      <th>bank_name</th>\n",
              "      <th>UIN_NO</th>\n",
              "      <th>SUBVENTION_RATE_OF_INTEREST</th>\n",
              "      <th>TOTAL_LOAN_AMOUNT_DISBURSED_INR</th>\n",
              "      <th>LOAN_TENURE_IN_MONTH</th>\n",
              "      <th>PRIOR_SUBVENTION_RATE_OF_INTEREST</th>\n",
              "      <th>AFTER_SUBVENTION_RATE_OF_INTEREST</th>\n",
              "      <th>NET_SUBVENTION_VALUE_INR</th>\n",
              "      <th>MSEME_NONMSME</th>\n",
              "      <th>IS_APPLICANT</th>\n",
              "      <th>IS_APPLICANT_NE_STATE</th>\n",
              "    </tr>\n",
              "  </thead>\n",
              "  <tbody>\n",
              "    <tr>\n",
              "      <th>0</th>\n",
              "      <td>493021019</td>\n",
              "      <td>KARNATAKA BANK LIMITED</td>\n",
              "      <td>IES00010394AM23</td>\n",
              "      <td>3.0</td>\n",
              "      <td>15000.0</td>\n",
              "      <td>270</td>\n",
              "      <td>10.11</td>\n",
              "      <td>7.11</td>\n",
              "      <td>1.0</td>\n",
              "      <td>MSME</td>\n",
              "      <td>NaN</td>\n",
              "      <td>No</td>\n",
              "    </tr>\n",
              "    <tr>\n",
              "      <th>1</th>\n",
              "      <td>509041256</td>\n",
              "      <td>KARNATAKA BANK LIMITED</td>\n",
              "      <td>IES00011483AM23</td>\n",
              "      <td>3.0</td>\n",
              "      <td>15000.0</td>\n",
              "      <td>270</td>\n",
              "      <td>11.83</td>\n",
              "      <td>8.83</td>\n",
              "      <td>1.0</td>\n",
              "      <td>MSME</td>\n",
              "      <td>NaN</td>\n",
              "      <td>No</td>\n",
              "    </tr>\n",
              "    <tr>\n",
              "      <th>2</th>\n",
              "      <td>502052619</td>\n",
              "      <td>PUNJAB NATIONAL BANK</td>\n",
              "      <td>IES00017072AM23</td>\n",
              "      <td>3.0</td>\n",
              "      <td>21195.0</td>\n",
              "      <td>1</td>\n",
              "      <td>7.80</td>\n",
              "      <td>4.80</td>\n",
              "      <td>1.0</td>\n",
              "      <td>MSME</td>\n",
              "      <td>NaN</td>\n",
              "      <td>No</td>\n",
              "    </tr>\n",
              "    <tr>\n",
              "      <th>3</th>\n",
              "      <td>3211000721</td>\n",
              "      <td>KARUR VYSYA BANK</td>\n",
              "      <td>IES00017568AM23</td>\n",
              "      <td>3.0</td>\n",
              "      <td>300000.0</td>\n",
              "      <td>120</td>\n",
              "      <td>10.35</td>\n",
              "      <td>7.35</td>\n",
              "      <td>1.0</td>\n",
              "      <td>MSME</td>\n",
              "      <td>NaN</td>\n",
              "      <td>No</td>\n",
              "    </tr>\n",
              "    <tr>\n",
              "      <th>4</th>\n",
              "      <td>3217507533</td>\n",
              "      <td>AXIS BANK</td>\n",
              "      <td>IES00000870AM23</td>\n",
              "      <td>3.0</td>\n",
              "      <td>500000.0</td>\n",
              "      <td>7</td>\n",
              "      <td>8.35</td>\n",
              "      <td>5.35</td>\n",
              "      <td>1.0</td>\n",
              "      <td>NON-MSME</td>\n",
              "      <td>NaN</td>\n",
              "      <td>No</td>\n",
              "    </tr>\n",
              "  </tbody>\n",
              "</table>\n",
              "</div>\n",
              "      <button class=\"colab-df-convert\" onclick=\"convertToInteractive('df-b989685e-2028-4a2d-b485-5ca39752000b')\"\n",
              "              title=\"Convert this dataframe to an interactive table.\"\n",
              "              style=\"display:none;\">\n",
              "        \n",
              "  <svg xmlns=\"http://www.w3.org/2000/svg\" height=\"24px\"viewBox=\"0 0 24 24\"\n",
              "       width=\"24px\">\n",
              "    <path d=\"M0 0h24v24H0V0z\" fill=\"none\"/>\n",
              "    <path d=\"M18.56 5.44l.94 2.06.94-2.06 2.06-.94-2.06-.94-.94-2.06-.94 2.06-2.06.94zm-11 1L8.5 8.5l.94-2.06 2.06-.94-2.06-.94L8.5 2.5l-.94 2.06-2.06.94zm10 10l.94 2.06.94-2.06 2.06-.94-2.06-.94-.94-2.06-.94 2.06-2.06.94z\"/><path d=\"M17.41 7.96l-1.37-1.37c-.4-.4-.92-.59-1.43-.59-.52 0-1.04.2-1.43.59L10.3 9.45l-7.72 7.72c-.78.78-.78 2.05 0 2.83L4 21.41c.39.39.9.59 1.41.59.51 0 1.02-.2 1.41-.59l7.78-7.78 2.81-2.81c.8-.78.8-2.07 0-2.86zM5.41 20L4 18.59l7.72-7.72 1.47 1.35L5.41 20z\"/>\n",
              "  </svg>\n",
              "      </button>\n",
              "      \n",
              "  <style>\n",
              "    .colab-df-container {\n",
              "      display:flex;\n",
              "      flex-wrap:wrap;\n",
              "      gap: 12px;\n",
              "    }\n",
              "\n",
              "    .colab-df-convert {\n",
              "      background-color: #E8F0FE;\n",
              "      border: none;\n",
              "      border-radius: 50%;\n",
              "      cursor: pointer;\n",
              "      display: none;\n",
              "      fill: #1967D2;\n",
              "      height: 32px;\n",
              "      padding: 0 0 0 0;\n",
              "      width: 32px;\n",
              "    }\n",
              "\n",
              "    .colab-df-convert:hover {\n",
              "      background-color: #E2EBFA;\n",
              "      box-shadow: 0px 1px 2px rgba(60, 64, 67, 0.3), 0px 1px 3px 1px rgba(60, 64, 67, 0.15);\n",
              "      fill: #174EA6;\n",
              "    }\n",
              "\n",
              "    [theme=dark] .colab-df-convert {\n",
              "      background-color: #3B4455;\n",
              "      fill: #D2E3FC;\n",
              "    }\n",
              "\n",
              "    [theme=dark] .colab-df-convert:hover {\n",
              "      background-color: #434B5C;\n",
              "      box-shadow: 0px 1px 3px 1px rgba(0, 0, 0, 0.15);\n",
              "      filter: drop-shadow(0px 1px 2px rgba(0, 0, 0, 0.3));\n",
              "      fill: #FFFFFF;\n",
              "    }\n",
              "  </style>\n",
              "\n",
              "      <script>\n",
              "        const buttonEl =\n",
              "          document.querySelector('#df-b989685e-2028-4a2d-b485-5ca39752000b button.colab-df-convert');\n",
              "        buttonEl.style.display =\n",
              "          google.colab.kernel.accessAllowed ? 'block' : 'none';\n",
              "\n",
              "        async function convertToInteractive(key) {\n",
              "          const element = document.querySelector('#df-b989685e-2028-4a2d-b485-5ca39752000b');\n",
              "          const dataTable =\n",
              "            await google.colab.kernel.invokeFunction('convertToInteractive',\n",
              "                                                     [key], {});\n",
              "          if (!dataTable) return;\n",
              "\n",
              "          const docLinkHtml = 'Like what you see? Visit the ' +\n",
              "            '<a target=\"_blank\" href=https://colab.research.google.com/notebooks/data_table.ipynb>data table notebook</a>'\n",
              "            + ' to learn more about interactive tables.';\n",
              "          element.innerHTML = '';\n",
              "          dataTable['output_type'] = 'display_data';\n",
              "          await google.colab.output.renderOutput(dataTable, element);\n",
              "          const docLink = document.createElement('div');\n",
              "          docLink.innerHTML = docLinkHtml;\n",
              "          element.appendChild(docLink);\n",
              "        }\n",
              "      </script>\n",
              "    </div>\n",
              "  </div>\n",
              "  "
            ]
          },
          "metadata": {},
          "execution_count": 3
        }
      ]
    },
    {
      "cell_type": "code",
      "source": [
        "df = df.loc[df[\"SUBVENTION_RATE_OF_INTEREST\"].isin([0.02, 0.03, 2.0, 3.0])]\n",
        "print(df.shape)"
      ],
      "metadata": {
        "colab": {
          "base_uri": "https://localhost:8080/"
        },
        "id": "n4tsSr8P1twj",
        "outputId": "4d8061bc-05dc-48a9-8801-a94cdef83ca8"
      },
      "execution_count": null,
      "outputs": [
        {
          "output_type": "stream",
          "name": "stdout",
          "text": [
            "(587780, 12)\n"
          ]
        }
      ]
    },
    {
      "cell_type": "code",
      "source": [
        "columns_to_multiply = [\"SUBVENTION_RATE_OF_INTEREST\", \"PRIOR_SUBVENTION_RATE_OF_INTEREST\", \"AFTER_SUBVENTION_RATE_OF_INTEREST\"]\n",
        "#df.loc[df[\"SUBVENTION_RATE_OF_INTEREST\"].isin([0.02, 0.03]), columns_to_multiply] *= 100\n",
        "percentaged_df = df.copy()\n",
        "percentaged_df.loc[df[\"SUBVENTION_RATE_OF_INTEREST\"].isin([0.02, 0.03]),columns_to_multiply] *= 100\n",
        "print(percentaged_df.shape)"
      ],
      "metadata": {
        "colab": {
          "base_uri": "https://localhost:8080/"
        },
        "id": "hNeMNmaM2xcl",
        "outputId": "b65d381b-ed3b-40e5-fc6e-143766ffffc5"
      },
      "execution_count": null,
      "outputs": [
        {
          "output_type": "stream",
          "name": "stdout",
          "text": [
            "(587780, 12)\n"
          ]
        }
      ]
    },
    {
      "cell_type": "code",
      "source": [
        "#Remove outliers where percentage of interest before subvention is greater than 18 percent - there are some 300 of such cases\n",
        "df_final = percentaged_df[percentaged_df[\"PRIOR_SUBVENTION_RATE_OF_INTEREST\"] <= 18]\n",
        "print(df_final.shape)\n",
        "df_final.head()"
      ],
      "metadata": {
        "colab": {
          "base_uri": "https://localhost:8080/",
          "height": 421
        },
        "id": "Pgd001rtKLZK",
        "outputId": "c590a415-e17c-49e9-cf66-7c8a8244f367"
      },
      "execution_count": null,
      "outputs": [
        {
          "output_type": "stream",
          "name": "stdout",
          "text": [
            "(587588, 12)\n"
          ]
        },
        {
          "output_type": "execute_result",
          "data": {
            "text/plain": [
              "   IEC_Number               bank_name           UIN_NO  \\\n",
              "0   493021019  KARNATAKA BANK LIMITED  IES00010394AM23   \n",
              "1   509041256  KARNATAKA BANK LIMITED  IES00011483AM23   \n",
              "2   502052619    PUNJAB NATIONAL BANK  IES00017072AM23   \n",
              "3  3211000721        KARUR VYSYA BANK  IES00017568AM23   \n",
              "4  3217507533               AXIS BANK  IES00000870AM23   \n",
              "\n",
              "   SUBVENTION_RATE_OF_INTEREST  TOTAL_LOAN_AMOUNT_DISBURSED_INR  \\\n",
              "0                          3.0                          15000.0   \n",
              "1                          3.0                          15000.0   \n",
              "2                          3.0                          21195.0   \n",
              "3                          3.0                         300000.0   \n",
              "4                          3.0                         500000.0   \n",
              "\n",
              "   LOAN_TENURE_IN_MONTH  PRIOR_SUBVENTION_RATE_OF_INTEREST  \\\n",
              "0                   270                              10.11   \n",
              "1                   270                              11.83   \n",
              "2                     1                               7.80   \n",
              "3                   120                              10.35   \n",
              "4                     7                               8.35   \n",
              "\n",
              "   AFTER_SUBVENTION_RATE_OF_INTEREST  NET_SUBVENTION_VALUE_INR MSEME_NONMSME  \\\n",
              "0                               7.11                       1.0          MSME   \n",
              "1                               8.83                       1.0          MSME   \n",
              "2                               4.80                       1.0          MSME   \n",
              "3                               7.35                       1.0          MSME   \n",
              "4                               5.35                       1.0      NON-MSME   \n",
              "\n",
              "  IS_APPLICANT IS_APPLICANT_NE_STATE  \n",
              "0          NaN                    No  \n",
              "1          NaN                    No  \n",
              "2          NaN                    No  \n",
              "3          NaN                    No  \n",
              "4          NaN                    No  "
            ],
            "text/html": [
              "\n",
              "  <div id=\"df-73243c75-46ae-4de3-8533-48a65481f05f\">\n",
              "    <div class=\"colab-df-container\">\n",
              "      <div>\n",
              "<style scoped>\n",
              "    .dataframe tbody tr th:only-of-type {\n",
              "        vertical-align: middle;\n",
              "    }\n",
              "\n",
              "    .dataframe tbody tr th {\n",
              "        vertical-align: top;\n",
              "    }\n",
              "\n",
              "    .dataframe thead th {\n",
              "        text-align: right;\n",
              "    }\n",
              "</style>\n",
              "<table border=\"1\" class=\"dataframe\">\n",
              "  <thead>\n",
              "    <tr style=\"text-align: right;\">\n",
              "      <th></th>\n",
              "      <th>IEC_Number</th>\n",
              "      <th>bank_name</th>\n",
              "      <th>UIN_NO</th>\n",
              "      <th>SUBVENTION_RATE_OF_INTEREST</th>\n",
              "      <th>TOTAL_LOAN_AMOUNT_DISBURSED_INR</th>\n",
              "      <th>LOAN_TENURE_IN_MONTH</th>\n",
              "      <th>PRIOR_SUBVENTION_RATE_OF_INTEREST</th>\n",
              "      <th>AFTER_SUBVENTION_RATE_OF_INTEREST</th>\n",
              "      <th>NET_SUBVENTION_VALUE_INR</th>\n",
              "      <th>MSEME_NONMSME</th>\n",
              "      <th>IS_APPLICANT</th>\n",
              "      <th>IS_APPLICANT_NE_STATE</th>\n",
              "    </tr>\n",
              "  </thead>\n",
              "  <tbody>\n",
              "    <tr>\n",
              "      <th>0</th>\n",
              "      <td>493021019</td>\n",
              "      <td>KARNATAKA BANK LIMITED</td>\n",
              "      <td>IES00010394AM23</td>\n",
              "      <td>3.0</td>\n",
              "      <td>15000.0</td>\n",
              "      <td>270</td>\n",
              "      <td>10.11</td>\n",
              "      <td>7.11</td>\n",
              "      <td>1.0</td>\n",
              "      <td>MSME</td>\n",
              "      <td>NaN</td>\n",
              "      <td>No</td>\n",
              "    </tr>\n",
              "    <tr>\n",
              "      <th>1</th>\n",
              "      <td>509041256</td>\n",
              "      <td>KARNATAKA BANK LIMITED</td>\n",
              "      <td>IES00011483AM23</td>\n",
              "      <td>3.0</td>\n",
              "      <td>15000.0</td>\n",
              "      <td>270</td>\n",
              "      <td>11.83</td>\n",
              "      <td>8.83</td>\n",
              "      <td>1.0</td>\n",
              "      <td>MSME</td>\n",
              "      <td>NaN</td>\n",
              "      <td>No</td>\n",
              "    </tr>\n",
              "    <tr>\n",
              "      <th>2</th>\n",
              "      <td>502052619</td>\n",
              "      <td>PUNJAB NATIONAL BANK</td>\n",
              "      <td>IES00017072AM23</td>\n",
              "      <td>3.0</td>\n",
              "      <td>21195.0</td>\n",
              "      <td>1</td>\n",
              "      <td>7.80</td>\n",
              "      <td>4.80</td>\n",
              "      <td>1.0</td>\n",
              "      <td>MSME</td>\n",
              "      <td>NaN</td>\n",
              "      <td>No</td>\n",
              "    </tr>\n",
              "    <tr>\n",
              "      <th>3</th>\n",
              "      <td>3211000721</td>\n",
              "      <td>KARUR VYSYA BANK</td>\n",
              "      <td>IES00017568AM23</td>\n",
              "      <td>3.0</td>\n",
              "      <td>300000.0</td>\n",
              "      <td>120</td>\n",
              "      <td>10.35</td>\n",
              "      <td>7.35</td>\n",
              "      <td>1.0</td>\n",
              "      <td>MSME</td>\n",
              "      <td>NaN</td>\n",
              "      <td>No</td>\n",
              "    </tr>\n",
              "    <tr>\n",
              "      <th>4</th>\n",
              "      <td>3217507533</td>\n",
              "      <td>AXIS BANK</td>\n",
              "      <td>IES00000870AM23</td>\n",
              "      <td>3.0</td>\n",
              "      <td>500000.0</td>\n",
              "      <td>7</td>\n",
              "      <td>8.35</td>\n",
              "      <td>5.35</td>\n",
              "      <td>1.0</td>\n",
              "      <td>NON-MSME</td>\n",
              "      <td>NaN</td>\n",
              "      <td>No</td>\n",
              "    </tr>\n",
              "  </tbody>\n",
              "</table>\n",
              "</div>\n",
              "      <button class=\"colab-df-convert\" onclick=\"convertToInteractive('df-73243c75-46ae-4de3-8533-48a65481f05f')\"\n",
              "              title=\"Convert this dataframe to an interactive table.\"\n",
              "              style=\"display:none;\">\n",
              "        \n",
              "  <svg xmlns=\"http://www.w3.org/2000/svg\" height=\"24px\"viewBox=\"0 0 24 24\"\n",
              "       width=\"24px\">\n",
              "    <path d=\"M0 0h24v24H0V0z\" fill=\"none\"/>\n",
              "    <path d=\"M18.56 5.44l.94 2.06.94-2.06 2.06-.94-2.06-.94-.94-2.06-.94 2.06-2.06.94zm-11 1L8.5 8.5l.94-2.06 2.06-.94-2.06-.94L8.5 2.5l-.94 2.06-2.06.94zm10 10l.94 2.06.94-2.06 2.06-.94-2.06-.94-.94-2.06-.94 2.06-2.06.94z\"/><path d=\"M17.41 7.96l-1.37-1.37c-.4-.4-.92-.59-1.43-.59-.52 0-1.04.2-1.43.59L10.3 9.45l-7.72 7.72c-.78.78-.78 2.05 0 2.83L4 21.41c.39.39.9.59 1.41.59.51 0 1.02-.2 1.41-.59l7.78-7.78 2.81-2.81c.8-.78.8-2.07 0-2.86zM5.41 20L4 18.59l7.72-7.72 1.47 1.35L5.41 20z\"/>\n",
              "  </svg>\n",
              "      </button>\n",
              "      \n",
              "  <style>\n",
              "    .colab-df-container {\n",
              "      display:flex;\n",
              "      flex-wrap:wrap;\n",
              "      gap: 12px;\n",
              "    }\n",
              "\n",
              "    .colab-df-convert {\n",
              "      background-color: #E8F0FE;\n",
              "      border: none;\n",
              "      border-radius: 50%;\n",
              "      cursor: pointer;\n",
              "      display: none;\n",
              "      fill: #1967D2;\n",
              "      height: 32px;\n",
              "      padding: 0 0 0 0;\n",
              "      width: 32px;\n",
              "    }\n",
              "\n",
              "    .colab-df-convert:hover {\n",
              "      background-color: #E2EBFA;\n",
              "      box-shadow: 0px 1px 2px rgba(60, 64, 67, 0.3), 0px 1px 3px 1px rgba(60, 64, 67, 0.15);\n",
              "      fill: #174EA6;\n",
              "    }\n",
              "\n",
              "    [theme=dark] .colab-df-convert {\n",
              "      background-color: #3B4455;\n",
              "      fill: #D2E3FC;\n",
              "    }\n",
              "\n",
              "    [theme=dark] .colab-df-convert:hover {\n",
              "      background-color: #434B5C;\n",
              "      box-shadow: 0px 1px 3px 1px rgba(0, 0, 0, 0.15);\n",
              "      filter: drop-shadow(0px 1px 2px rgba(0, 0, 0, 0.3));\n",
              "      fill: #FFFFFF;\n",
              "    }\n",
              "  </style>\n",
              "\n",
              "      <script>\n",
              "        const buttonEl =\n",
              "          document.querySelector('#df-73243c75-46ae-4de3-8533-48a65481f05f button.colab-df-convert');\n",
              "        buttonEl.style.display =\n",
              "          google.colab.kernel.accessAllowed ? 'block' : 'none';\n",
              "\n",
              "        async function convertToInteractive(key) {\n",
              "          const element = document.querySelector('#df-73243c75-46ae-4de3-8533-48a65481f05f');\n",
              "          const dataTable =\n",
              "            await google.colab.kernel.invokeFunction('convertToInteractive',\n",
              "                                                     [key], {});\n",
              "          if (!dataTable) return;\n",
              "\n",
              "          const docLinkHtml = 'Like what you see? Visit the ' +\n",
              "            '<a target=\"_blank\" href=https://colab.research.google.com/notebooks/data_table.ipynb>data table notebook</a>'\n",
              "            + ' to learn more about interactive tables.';\n",
              "          element.innerHTML = '';\n",
              "          dataTable['output_type'] = 'display_data';\n",
              "          await google.colab.output.renderOutput(dataTable, element);\n",
              "          const docLink = document.createElement('div');\n",
              "          docLink.innerHTML = docLinkHtml;\n",
              "          element.appendChild(docLink);\n",
              "        }\n",
              "      </script>\n",
              "    </div>\n",
              "  </div>\n",
              "  "
            ]
          },
          "metadata": {},
          "execution_count": 6
        }
      ]
    },
    {
      "cell_type": "code",
      "source": [
        "banks_grouped = df_final.groupby(\"bank_name\")[\"PRIOR_SUBVENTION_RATE_OF_INTEREST\"].mean().round(2)\n",
        "banks_grouped.to_excel(\"bank_with_mean_interest_rates_before_subvention.xlsx\")"
      ],
      "metadata": {
        "id": "tOW5ZkcKEhDy"
      },
      "execution_count": null,
      "outputs": []
    },
    {
      "cell_type": "code",
      "source": [
        "banks_grouped_value = df_final.groupby(\"bank_name\")[\"NET_SUBVENTION_VALUE_INR\"].sum().round(0)\n",
        "banks_grouped_value.to_excel(\"bank_with_net_subvention_value_total.xlsx\")"
      ],
      "metadata": {
        "id": "mGjNIJN-FVfv"
      },
      "execution_count": null,
      "outputs": []
    },
    {
      "cell_type": "markdown",
      "source": [
        "The above is the finalized clean dataset. It contains  interest values upto 18 percent as there were very few above this and were skewing the dataset. The total number of values for analysis is 587588"
      ],
      "metadata": {
        "id": "4Fm9SkWh_mhX"
      }
    },
    {
      "cell_type": "code",
      "source": [
        "# select the column you want to plot\n",
        "column = df_final[\"PRIOR_SUBVENTION_RATE_OF_INTEREST\"]\n",
        "\n",
        "# plot the normal distribution curve using seaborn\n",
        "ax = sns.distplot(column, fit=norm)\n",
        "\n",
        "# add labels and title to the plot\n",
        "\n",
        "ax.set_xlabel(\"Rate of interest subvention\")\n",
        "ax.set_ylabel(\"proportional density\")\n",
        "ax.set_title(\"Density Curve for interest rates before subvention\")\n",
        "fig = ax.get_figure()\n",
        "fig.savefig('norm_dist.png', dpi=300)"
      ],
      "metadata": {
        "id": "GCcqDrr935p6",
        "colab": {
          "base_uri": "https://localhost:8080/",
          "height": 349
        },
        "outputId": "e55375c8-8abd-4517-ffef-a41353f46102"
      },
      "execution_count": null,
      "outputs": [
        {
          "output_type": "stream",
          "name": "stderr",
          "text": [
            "/usr/local/lib/python3.9/dist-packages/seaborn/distributions.py:2619: FutureWarning: `distplot` is a deprecated function and will be removed in a future version. Please adapt your code to use either `displot` (a figure-level function with similar flexibility) or `histplot` (an axes-level function for histograms).\n",
            "  warnings.warn(msg, FutureWarning)\n"
          ]
        },
        {
          "output_type": "display_data",
          "data": {
            "text/plain": [
              "<Figure size 432x288 with 1 Axes>"
            ],
            "image/png": "[encoded data removed]"
          },
          "metadata": {
            "needs_background": "light"
          }
        }
      ]
    },
    {
      "cell_type": "code",
      "source": [
        "ax = sns.distplot(df_final[\"PRIOR_SUBVENTION_RATE_OF_INTEREST\"], hist=False, kde=True,\n",
        "             kde_kws = {'shade': True})\n",
        "\n",
        "mean = df_final[\"PRIOR_SUBVENTION_RATE_OF_INTEREST\"].mean()\n",
        "std = df_final[\"PRIOR_SUBVENTION_RATE_OF_INTEREST\"].std()\n",
        "\n",
        "sd1 = \"{:.1f}\".format(mean + std)\n",
        "sd2 = \"{:.1f}\".format(mean + 2*std)\n",
        "sd3 = \"{:.1f}\".format(mean + 3*std)\n",
        "meanf = \"{:.1f}\".format(mean)\n",
        "ax.axvline(x=mean, color='black', label=str('Mean: ' + meanf))\n",
        "ax.axvline(x=mean + 1*std, color='green', linestyle='dashed', label=str(\"1 SD: \" + sd1))\n",
        "ax.axvline(x=mean + 2*std, color='brown', linestyle='dashdot', label=str(\"2 SD: \" + sd2))\n",
        "ax.axvline(x=mean + 3*std, color='red', linestyle='dotted', label=str(\"3 SD: \" + sd3))\n",
        "\n",
        "ax.legend()\n",
        "\n",
        "fig = ax.get_figure()\n",
        "fig.savefig('sd_dist.png', dpi=300)"
      ],
      "metadata": {
        "id": "nU0EaDI-3xz0",
        "colab": {
          "base_uri": "https://localhost:8080/",
          "height": 338
        },
        "outputId": "0c49fa6b-917a-48fc-e418-32972cb67aba"
      },
      "execution_count": null,
      "outputs": [
        {
          "output_type": "stream",
          "name": "stderr",
          "text": [
            "/usr/local/lib/python3.9/dist-packages/seaborn/distributions.py:2619: FutureWarning: `distplot` is a deprecated function and will be removed in a future version. Please adapt your code to use either `displot` (a figure-level function with similar flexibility) or `kdeplot` (an axes-level function for kernel density plots).\n",
            "  warnings.warn(msg, FutureWarning)\n"
          ]
        },
        {
          "output_type": "display_data",
          "data": {
            "text/plain": [
              "<Figure size 432x288 with 1 Axes>"
            ],
            "image/png": "[encoded data removed]"
          },
          "metadata": {
            "needs_background": "light"
          }
        }
      ]
    },
    {
      "cell_type": "code",
      "source": [
        "column_values = df_final[\"PRIOR_SUBVENTION_RATE_OF_INTEREST\"].sort_values()\n",
        "cumulative_count = column_values.value_counts().sort_index().cumsum()\n",
        "\n",
        "plt.plot(cumulative_count.index, cumulative_count.values)\n",
        "plt.xlabel(\"PRIOR_SUBVENTION_RATE_OF_INTEREST\")\n",
        "plt.ylabel('Cumulative Count')\n",
        "\n",
        "mean = df_final[\"PRIOR_SUBVENTION_RATE_OF_INTEREST\"].mean()\n",
        "percentile_75 = df_final[\"PRIOR_SUBVENTION_RATE_OF_INTEREST\"].quantile(0.75)\n",
        "percentile_90 = df_final[\"PRIOR_SUBVENTION_RATE_OF_INTEREST\"].quantile(0.90)\n",
        "percentile_95 = df_final[\"PRIOR_SUBVENTION_RATE_OF_INTEREST\"].quantile(0.95)\n",
        "plt.axvline(mean, color='green', label='Mean', linestyle='solid')\n",
        "plt.axvline(percentile_75, color='yellow', linestyle='dashed', label='75th Percentile')\n",
        "plt.axvline(percentile_90, color='red', linestyle='dashed', label='90th Percentile')\n",
        "plt.axvline(percentile_95, color='black', linestyle='dashdot', label='95th Percentile')\n",
        "plt.legend()\n",
        "plt.savefig('cumsum_main.png', dpi=300, bbox_inches='tight')\n",
        "plt.show()"
      ],
      "metadata": {
        "colab": {
          "base_uri": "https://localhost:8080/",
          "height": 280
        },
        "id": "9fcmJHHfzUdl",
        "outputId": "5d33382c-378d-4ad4-8256-e29442d77b04"
      },
      "execution_count": null,
      "outputs": [
        {
          "output_type": "display_data",
          "data": {
            "text/plain": [
              "<Figure size 432x288 with 1 Axes>"
            ],
            "image/png": "[encoded data removed]"
          },
          "metadata": {
            "needs_background": "light"
          }
        }
      ]
    },
    {
      "cell_type": "code",
      "source": [
        "df_final.columns"
      ],
      "metadata": {
        "colab": {
          "base_uri": "https://localhost:8080/"
        },
        "id": "cvQui-Fa6-ly",
        "outputId": "c74572f2-6db8-4b22-dbc4-08642b334e4e"
      },
      "execution_count": null,
      "outputs": [
        {
          "output_type": "execute_result",
          "data": {
            "text/plain": [
              "Index(['IEC_Number', 'bank_name', 'UIN_NO', 'SUBVENTION_RATE_OF_INTEREST',\n",
              "       'TOTAL_LOAN_AMOUNT_DISBURSED_INR', 'LOAN_TENURE_IN_MONTH',\n",
              "       'PRIOR_SUBVENTION_RATE_OF_INTEREST',\n",
              "       'AFTER_SUBVENTION_RATE_OF_INTEREST', 'NET_SUBVENTION_VALUE_INR',\n",
              "       'MSEME_NONMSME', 'IS_APPLICANT', 'IS_APPLICANT_NE_STATE'],\n",
              "      dtype='object')"
            ]
          },
          "metadata": {},
          "execution_count": 12
        }
      ]
    },
    {
      "cell_type": "code",
      "source": [
        "df_int1 = df_final.copy()\n",
        "df_int1[\"bank_name\"] = df_int1[\"bank_name\"].str.upper()\n",
        "grouped = df_int1.groupby(\"bank_name\")[\"NET_SUBVENTION_VALUE_INR\"].sum()\n",
        "result = pd.DataFrame({'Name of the Bank': grouped.index, 'Total subvention value': grouped.values})\n",
        "cum_value_banks = result.sort_values(by = \"Total subvention value\", ascending=False)\n",
        "cum_value_banks.to_excel(\"Bank_cumvalue.xlsx\")"
      ],
      "metadata": {
        "id": "-IOekljy3x9X"
      },
      "execution_count": null,
      "outputs": []
    },
    {
      "cell_type": "markdown",
      "source": [
        "Now we shall do the above analysis for MSME Sector in the below\n",
        "set of code pieces"
      ],
      "metadata": {
        "id": "bdri3Ht3_a8a"
      }
    },
    {
      "cell_type": "code",
      "source": [
        "df_final[\"MSEME_NONMSME\"].unique()"
      ],
      "metadata": {
        "colab": {
          "base_uri": "https://localhost:8080/"
        },
        "id": "ttQphrp-_Ya4",
        "outputId": "2d6ac0da-80a1-4db7-aa0f-f69aaa70ce71"
      },
      "execution_count": null,
      "outputs": [
        {
          "output_type": "execute_result",
          "data": {
            "text/plain": [
              "array(['MSME', 'NON-MSME', nan], dtype=object)"
            ]
          },
          "metadata": {},
          "execution_count": 14
        }
      ]
    },
    {
      "cell_type": "code",
      "source": [
        "# total value of loan taken by msmes\n",
        "msme_loans = df_final.loc[df_final[\"MSEME_NONMSME\"] == \"MSME\", 'TOTAL_LOAN_AMOUNT_DISBURSED_INR'].sum()\n",
        "msme_loans"
      ],
      "metadata": {
        "colab": {
          "base_uri": "https://localhost:8080/"
        },
        "id": "ql__szO45Rkf",
        "outputId": "71707ae6-1f88-46c8-9a33-65a5910f01b6"
      },
      "execution_count": null,
      "outputs": [
        {
          "output_type": "execute_result",
          "data": {
            "text/plain": [
              "10091159595209.592"
            ]
          },
          "metadata": {},
          "execution_count": 16
        }
      ]
    },
    {
      "cell_type": "code",
      "source": [
        "# total value of loan taken by non-msmes\n",
        "non_msme_loans = df_final.loc[df_final[\"MSEME_NONMSME\"] != \"MSME\", 'TOTAL_LOAN_AMOUNT_DISBURSED_INR'].sum()\n",
        "non_msme_loans"
      ],
      "metadata": {
        "colab": {
          "base_uri": "https://localhost:8080/"
        },
        "id": "Nt96AkoF6XwI",
        "outputId": "9344fecb-0126-443d-8a3a-c3115e07450a"
      },
      "execution_count": null,
      "outputs": [
        {
          "output_type": "execute_result",
          "data": {
            "text/plain": [
              "5329664002497.158"
            ]
          },
          "metadata": {},
          "execution_count": 17
        }
      ]
    },
    {
      "cell_type": "code",
      "source": [
        "# total value of subvention taken by msmes\n",
        "msme_sub = df_final.loc[df_final[\"MSEME_NONMSME\"] == \"MSME\", 'NET_SUBVENTION_VALUE_INR'].sum()\n",
        "msme_sub"
      ],
      "metadata": {
        "colab": {
          "base_uri": "https://localhost:8080/"
        },
        "id": "G_lgrdrz61xF",
        "outputId": "f285729a-3b55-4a49-a0f1-efcb87cb0422"
      },
      "execution_count": null,
      "outputs": [
        {
          "output_type": "execute_result",
          "data": {
            "text/plain": [
              "11408922494.262001"
            ]
          },
          "metadata": {},
          "execution_count": 18
        }
      ]
    },
    {
      "cell_type": "code",
      "source": [
        "# total value of subvention taken by non-msmes\n",
        "non_msme_sub = df_final.loc[df_final[\"MSEME_NONMSME\"] != \"MSME\", 'NET_SUBVENTION_VALUE_INR'].sum()\n",
        "non_msme_sub"
      ],
      "metadata": {
        "colab": {
          "base_uri": "https://localhost:8080/"
        },
        "id": "JgnrvBdJ62CH",
        "outputId": "ed455c7e-72ae-481f-e7e1-000cdd819f74"
      },
      "execution_count": null,
      "outputs": [
        {
          "output_type": "execute_result",
          "data": {
            "text/plain": [
              "6198235389.658999"
            ]
          },
          "metadata": {},
          "execution_count": 19
        }
      ]
    },
    {
      "cell_type": "code",
      "source": [
        "percentage_msme_sub = msme_sub/(msme_sub+non_msme_sub) * 100\n",
        "percentage_msme_sub"
      ],
      "metadata": {
        "colab": {
          "base_uri": "https://localhost:8080/"
        },
        "id": "yA0THDsc7Lcc",
        "outputId": "425cf99c-006b-45e9-b9a8-534bb566bd8c"
      },
      "execution_count": null,
      "outputs": [
        {
          "output_type": "execute_result",
          "data": {
            "text/plain": [
              "64.79707042713987"
            ]
          },
          "metadata": {},
          "execution_count": 21
        }
      ]
    },
    {
      "cell_type": "code",
      "source": [
        "df_msme = df_final[df_final[\"MSEME_NONMSME\"] == \"MSME\"]\n",
        "df_nonmsme = df_final[df_final[\"MSEME_NONMSME\"] != \"MSME\"]\n",
        "print(df_msme.shape)\n",
        "print(df_nonmsme.shape)"
      ],
      "metadata": {
        "colab": {
          "base_uri": "https://localhost:8080/"
        },
        "id": "ChW9Qc1p_Ydl",
        "outputId": "0aa58fd0-d5aa-49f3-a34b-76e98434f0f1"
      },
      "execution_count": null,
      "outputs": [
        {
          "output_type": "stream",
          "name": "stdout",
          "text": [
            "(448745, 12)\n",
            "(138843, 12)\n"
          ]
        }
      ]
    },
    {
      "cell_type": "markdown",
      "source": [
        "Now let's find how many unique exporters take these benefits under MSME and non MSME categories"
      ],
      "metadata": {
        "id": "TuqUz_LMA1fC"
      }
    },
    {
      "cell_type": "code",
      "source": [
        "print(\"Unique MSMEs: \", df_msme[\"IEC_Number\"].nunique())\n",
        "print(\"Unique Non-MSMEs: \", df_nonmsme[\"IEC_Number\"].nunique())"
      ],
      "metadata": {
        "colab": {
          "base_uri": "https://localhost:8080/"
        },
        "id": "NjVswNrA_YgN",
        "outputId": "1f24a4ed-81e4-4a23-c411-6fe6e2308d61"
      },
      "execution_count": null,
      "outputs": [
        {
          "output_type": "stream",
          "name": "stdout",
          "text": [
            "Unique MSMEs:  7599\n",
            "Unique Non-MSMEs:  2188\n"
          ]
        }
      ]
    },
    {
      "cell_type": "code",
      "source": [
        "# Plotting for MSMEs alone\n",
        "ax = sns.distplot(df_msme[\"PRIOR_SUBVENTION_RATE_OF_INTEREST\"], hist=False, kde=True,\n",
        "             kde_kws = {'shade': True})\n",
        "\n",
        "mean = df_msme[\"PRIOR_SUBVENTION_RATE_OF_INTEREST\"].mean()\n",
        "std = df_msme[\"PRIOR_SUBVENTION_RATE_OF_INTEREST\"].std()\n",
        "\n",
        "sd1 = \"{:.1f}\".format(mean + std)\n",
        "sd2 = \"{:.1f}\".format(mean + 2*std)\n",
        "sd3 = \"{:.1f}\".format(mean + 3*std)\n",
        "meanf = \"{:.1f}\".format(mean)\n",
        "ax.axvline(x=mean, color='black', label=str('Mean: ' + meanf))\n",
        "ax.axvline(x=mean + 1*std, color='green', linestyle='dashed', label=str(\"1 SD: \" + sd1))\n",
        "ax.axvline(x=mean + 2*std, color='brown', linestyle='dashdot', label=str(\"2 SD: \" + sd2))\n",
        "ax.axvline(x=mean + 3*std, color='red', linestyle='dotted', label=str(\"3 SD: \" + sd3))\n",
        "\n",
        "ax.legend()\n",
        "\n",
        "fig = ax.get_figure()\n",
        "fig.savefig('sd_msme.png', dpi=300)"
      ],
      "metadata": {
        "colab": {
          "base_uri": "https://localhost:8080/",
          "height": 337
        },
        "id": "oY-VMrMZ_Yij",
        "outputId": "868754d6-b6f1-4f5b-e3f7-af13adb0629b"
      },
      "execution_count": null,
      "outputs": [
        {
          "output_type": "stream",
          "name": "stderr",
          "text": [
            "/usr/local/lib/python3.8/dist-packages/seaborn/distributions.py:2619: FutureWarning: `distplot` is a deprecated function and will be removed in a future version. Please adapt your code to use either `displot` (a figure-level function with similar flexibility) or `kdeplot` (an axes-level function for kernel density plots).\n",
            "  warnings.warn(msg, FutureWarning)\n"
          ]
        },
        {
          "output_type": "display_data",
          "data": {
            "text/plain": [
              "<Figure size 432x288 with 1 Axes>"
            ],
            "image/png": "[encoded data removed]"
          },
          "metadata": {
            "needs_background": "light"
          }
        }
      ]
    },
    {
      "cell_type": "code",
      "source": [
        "# Plotting for Non MSMEs alone\n",
        "ax = sns.distplot(df_nonmsme[\"PRIOR_SUBVENTION_RATE_OF_INTEREST\"], hist=False, kde=True,\n",
        "             kde_kws = {'shade': True})\n",
        "\n",
        "mean = df_nonmsme[\"PRIOR_SUBVENTION_RATE_OF_INTEREST\"].mean()\n",
        "std = df_nonmsme[\"PRIOR_SUBVENTION_RATE_OF_INTEREST\"].std()\n",
        "\n",
        "sd1 = \"{:.1f}\".format(mean + std)\n",
        "sd2 = \"{:.1f}\".format(mean + 2*std)\n",
        "sd3 = \"{:.1f}\".format(mean + 3*std)\n",
        "meanf = \"{:.1f}\".format(mean)\n",
        "ax.axvline(x=mean, color='black', label=str('Mean: ' + meanf))\n",
        "ax.axvline(x=mean + 1*std, color='green', linestyle='dashed', label=str(\"1 SD: \" + sd1))\n",
        "ax.axvline(x=mean + 2*std, color='brown', linestyle='dashdot', label=str(\"2 SD: \" + sd2))\n",
        "ax.axvline(x=mean + 3*std, color='red', linestyle='dotted', label=str(\"3 SD: \" + sd3))\n",
        "\n",
        "ax.legend()\n",
        "\n",
        "fig = ax.get_figure()\n",
        "fig.savefig('sd_nonmsme.png', dpi=300)"
      ],
      "metadata": {
        "colab": {
          "base_uri": "https://localhost:8080/",
          "height": 334
        },
        "id": "6yVRarWOdOpS",
        "outputId": "d6fb290c-9afb-45f6-d57d-2c187b17c955"
      },
      "execution_count": null,
      "outputs": [
        {
          "output_type": "stream",
          "name": "stderr",
          "text": [
            "/usr/local/lib/python3.8/dist-packages/seaborn/distributions.py:2619: FutureWarning: `distplot` is a deprecated function and will be removed in a future version. Please adapt your code to use either `displot` (a figure-level function with similar flexibility) or `kdeplot` (an axes-level function for kernel density plots).\n",
            "  warnings.warn(msg, FutureWarning)\n"
          ]
        },
        {
          "output_type": "display_data",
          "data": {
            "text/plain": [
              "<Figure size 432x288 with 1 Axes>"
            ],
            "image/png": "[encoded data removed]"
          },
          "metadata": {
            "needs_background": "light"
          }
        }
      ]
    },
    {
      "cell_type": "markdown",
      "source": [
        "We will now do some analysis based on values of loans given"
      ],
      "metadata": {
        "id": "58aFon1_iyIJ"
      }
    },
    {
      "cell_type": "code",
      "source": [
        "print(df_msme.shape)\n",
        "df_msme.columns"
      ],
      "metadata": {
        "colab": {
          "base_uri": "https://localhost:8080/"
        },
        "id": "natm_qSwi1Wo",
        "outputId": "f0149905-8da6-43a2-ce55-dd24200c2d65"
      },
      "execution_count": null,
      "outputs": [
        {
          "output_type": "stream",
          "name": "stdout",
          "text": [
            "(448745, 12)\n"
          ]
        },
        {
          "output_type": "execute_result",
          "data": {
            "text/plain": [
              "Index(['IEC_Number', 'bank_name', 'UIN_NO', 'SUBVENTION_RATE_OF_INTEREST',\n",
              "       'TOTAL_LOAN_AMOUNT_DISBURSED_INR', 'LOAN_TENURE_IN_MONTH',\n",
              "       'PRIOR_SUBVENTION_RATE_OF_INTEREST',\n",
              "       'AFTER_SUBVENTION_RATE_OF_INTEREST', 'NET_SUBVENTION_VALUE_INR',\n",
              "       'MSEME_NONMSME', 'IS_APPLICANT', 'IS_APPLICANT_NE_STATE'],\n",
              "      dtype='object')"
            ]
          },
          "metadata": {},
          "execution_count": 46
        }
      ]
    },
    {
      "cell_type": "code",
      "source": [
        "df_msme.shape"
      ],
      "metadata": {
        "colab": {
          "base_uri": "https://localhost:8080/"
        },
        "id": "VrhJ05y7jmKy",
        "outputId": "46d12ac6-2e09-4a6e-8634-8141f8d46ac0"
      },
      "execution_count": null,
      "outputs": [
        {
          "output_type": "execute_result",
          "data": {
            "text/plain": [
              "(448745, 12)"
            ]
          },
          "metadata": {},
          "execution_count": 48
        }
      ]
    },
    {
      "cell_type": "code",
      "source": [
        "df_msme[\"TOTAL_LOAN_AMOUNT_DISBURSED_INR\"].mean()\n"
      ],
      "metadata": {
        "colab": {
          "base_uri": "https://localhost:8080/"
        },
        "id": "_8n1cosVAUG0",
        "outputId": "d3fd03da-dd03-4458-e9f1-793e79885925"
      },
      "execution_count": null,
      "outputs": [
        {
          "output_type": "execute_result",
          "data": {
            "text/plain": [
              "22487514.279177688"
            ]
          },
          "metadata": {},
          "execution_count": 62
        }
      ]
    },
    {
      "cell_type": "code",
      "source": [
        "df_nonmsme[\"TOTAL_LOAN_AMOUNT_DISBURSED_INR\"].mean()"
      ],
      "metadata": {
        "colab": {
          "base_uri": "https://localhost:8080/"
        },
        "id": "MM5PZdkgAkqN",
        "outputId": "76d3513a-f2bf-490d-ad78-532819a26f11"
      },
      "execution_count": null,
      "outputs": [
        {
          "output_type": "execute_result",
          "data": {
            "text/plain": [
              "38386263.63948602"
            ]
          },
          "metadata": {},
          "execution_count": 63
        }
      ]
    },
    {
      "cell_type": "code",
      "source": [
        "df_int2 = df_msme.copy()\n",
        "grouped = df_int2.groupby(\"IEC_Number\")[\"TOTAL_LOAN_AMOUNT_DISBURSED_INR\"].sum()\n",
        "result = pd.DataFrame({'IEC': grouped.index, 'Loan value': grouped.values})\n",
        "cum_loan = result.sort_values(by = \"Loan value\", ascending=False)\n",
        "#cum_loan.to_excel(\"msme_loan_values.xlsx\")\n",
        "print(result[\"Loan value\"].sum())"
      ],
      "metadata": {
        "colab": {
          "base_uri": "https://localhost:8080/"
        },
        "id": "N6WIv6uckpVG",
        "outputId": "5196e81c-4ec2-4516-8897-b9ef4f76ee46"
      },
      "execution_count": null,
      "outputs": [
        {
          "output_type": "stream",
          "name": "stdout",
          "text": [
            "10091159595209.594\n"
          ]
        }
      ]
    },
    {
      "cell_type": "code",
      "source": [
        "df_int3 = df_nonmsme.copy()\n",
        "grouped = df_int3.groupby(\"IEC_Number\")[\"TOTAL_LOAN_AMOUNT_DISBURSED_INR\"].sum()\n",
        "result = pd.DataFrame({'IEC': grouped.index, 'Loan value': grouped.values})\n",
        "cum_loan = result.sort_values(by = \"Loan value\", ascending=False)\n",
        "print(result[\"Loan value\"].sum())\n",
        "#cum_loan.to_excel(\"nonmsme_loan_values.xlsx\")"
      ],
      "metadata": {
        "colab": {
          "base_uri": "https://localhost:8080/"
        },
        "id": "Pw-fWRru3ZfJ",
        "outputId": "c97d99c0-ce05-46c4-eea7-15d4deec1bdf"
      },
      "execution_count": null,
      "outputs": [
        {
          "output_type": "stream",
          "name": "stdout",
          "text": [
            "5329664002497.158\n"
          ]
        }
      ]
    },
    {
      "cell_type": "code",
      "source": [
        "print(\"MSME percent:\",5329664002497.158/(5329664002497.158+10091159595209.594))\n",
        "print(\"Non MSME percent share:\", 10091159595209.594/(5329664002497.158+10091159595209.594))"
      ],
      "metadata": {
        "colab": {
          "base_uri": "https://localhost:8080/"
        },
        "id": "p7gwnahR5Q-y",
        "outputId": "d014512c-a8f5-4fdc-9ca0-dd5c701e64b7"
      },
      "execution_count": null,
      "outputs": [
        {
          "output_type": "stream",
          "name": "stdout",
          "text": [
            "MSME percent: 0.3456147441625452\n",
            "Non MSME percent share: 0.6543852558374549\n"
          ]
        }
      ]
    },
    {
      "cell_type": "code",
      "source": [
        "df_int4_alt = df_msme.copy()\n",
        "df_int4 = df_int4_alt[df_int4_alt[\"NET_SUBVENTION_VALUE_INR\"] > 0]\n",
        "grouped = df_int4.groupby(\"IEC_Number\")[\"NET_SUBVENTION_VALUE_INR\"].sum()\n",
        "result = pd.DataFrame({'IEC': grouped.index, 'Subvention value': grouped.values})\n",
        "cum_loan = result.sort_values(by = \"Subvention value\", ascending=False)\n",
        "cum_loan.to_excel(\"msme_net_subvention_values.xlsx\")\n",
        "print(result[\"Subvention value\"].sum())"
      ],
      "metadata": {
        "colab": {
          "base_uri": "https://localhost:8080/"
        },
        "id": "CMQeDKMk5vKi",
        "outputId": "b8f7a0ef-8fc0-4723-d084-8e26f6bb88ea"
      },
      "execution_count": null,
      "outputs": [
        {
          "output_type": "stream",
          "name": "stdout",
          "text": [
            "11416199884.236\n"
          ]
        }
      ]
    },
    {
      "cell_type": "code",
      "source": [
        "df_int5_alt = df_nonmsme.copy()\n",
        "df_int5 = df_int5_alt[df_int5_alt[\"NET_SUBVENTION_VALUE_INR\"] > 0]\n",
        "grouped = df_int5.groupby(\"IEC_Number\")[\"NET_SUBVENTION_VALUE_INR\"].sum()\n",
        "result = pd.DataFrame({'IEC': grouped.index, 'Subvention value': grouped.values})\n",
        "cum_loan = result.sort_values(by = \"Subvention value\", ascending=False)\n",
        "cum_loan.to_excel(\"non_msme_net_subvention_values.xlsx\")\n",
        "print(result[\"Subvention value\"].sum())"
      ],
      "metadata": {
        "colab": {
          "base_uri": "https://localhost:8080/"
        },
        "id": "GIyWwY_h6btO",
        "outputId": "990f2f89-00ef-4d1d-d216-421b8ef0529e"
      },
      "execution_count": null,
      "outputs": [
        {
          "output_type": "stream",
          "name": "stdout",
          "text": [
            "6204940629.546\n"
          ]
        }
      ]
    },
    {
      "cell_type": "code",
      "source": [
        "print(\"MSME percent share in subvention:\",11416199884/(11416199884+6204940629))\n",
        "print(\"Non MSME percent share:\", 6204940629/(11416199884+6204940629))"
      ],
      "metadata": {
        "colab": {
          "base_uri": "https://localhost:8080/"
        },
        "id": "vrC63Ga16zEX",
        "outputId": "fc3e208e-04bb-44a4-f4bb-3cd7fdf579ea"
      },
      "execution_count": null,
      "outputs": [
        {
          "output_type": "stream",
          "name": "stdout",
          "text": [
            "MSME percent share in subvention: 0.6478695221559408\n",
            "Non MSME percent share: 0.35213047784405915\n"
          ]
        }
      ]
    },
    {
      "cell_type": "markdown",
      "source": [
        "*11408922494* 6198235389.659"
      ],
      "metadata": {
        "id": "XwKBNZ4t8RR6"
      }
    }
  ]
}