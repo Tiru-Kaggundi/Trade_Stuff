{
  "nbformat": 4,
  "nbformat_minor": 0,
  "metadata": {
    "colab": {
      "name": "ITS_specialization.ipynb",
      "provenance": [],
      "collapsed_sections": [],
      "authorship_tag": "ABX9TyOBnKrcMW5QjDDsY25j4N0z",
      "include_colab_link": true
    },
    "kernelspec": {
      "name": "python3",
      "display_name": "Python 3"
    },
    "language_info": {
      "name": "python"
    }
  },
  "cells": [
    {
      "cell_type": "markdown",
      "metadata": {
        "id": "view-in-github",
        "colab_type": "text"
      },
      "source": [
        "<a href=\"https://colab.research.google.com/github/Tiru-Kaggundi/Trade_Stuff/blob/main/ITS_specialization.ipynb\" target=\"_parent\"><img src=\"https://colab.research.google.com/assets/colab-badge.svg\" alt=\"Open In Colab\"/></a>"
      ]
    },
    {
      "cell_type": "code",
      "execution_count": 99,
      "metadata": {
        "id": "PdoNkKs7XGLz"
      },
      "outputs": [],
      "source": [
        "import pandas as pd"
      ]
    },
    {
      "cell_type": "code",
      "source": [
        "names = pd.read_excel(\"/content/ITS_Specialization_region_products.xlsx\", sheet_name='Territories')\n",
        "names_list = names[[\"Serial_no\", \"Name_of_officer\"]]\n",
        "names_list.Serial_no.astype(str)\n",
        "names_dict = dict(names_list.values)"
      ],
      "metadata": {
        "id": "PzYeauWCgbOB"
      },
      "execution_count": 100,
      "outputs": []
    },
    {
      "cell_type": "code",
      "source": [
        "territories = pd.read_excel(\"/content/ITS_Specialization_region_products.xlsx\", sheet_name='Territories', header=0, index_col=2)\n",
        "territories.drop(territories.columns[[0, 1, 2]], axis=1, inplace=True)\n",
        "territories.fillna(0, inplace=True)\n",
        "territories.drop(['Any other (please specify)', 'Remarks (if any)'], axis=1, inplace=True)"
      ],
      "metadata": {
        "id": "Oj0hFZ_j4ns1"
      },
      "execution_count": 101,
      "outputs": []
    },
    {
      "cell_type": "code",
      "source": [
        "products = pd.read_excel(\"/content/ITS_Specialization_region_products.xlsx\", sheet_name='Product group', header=0, index_col=2)\n",
        "products.drop(products.columns[[0, 1, 2]], axis=1, inplace=True)\n",
        "products.fillna(0, inplace=True)\n",
        "products.drop(['Any other (please specify)', 'Remarks (if any)'], axis=1, inplace=True)"
      ],
      "metadata": {
        "id": "lBDqCnKmZSEs"
      },
      "execution_count": 102,
      "outputs": []
    },
    {
      "cell_type": "code",
      "source": [
        "list_of_officers_region_index = territories.index[territories['NAFTA'] != 0].tolist()\n",
        "list_of_officers_products_index = products.index[products['Agri - fruits and vegetables, cereals, foodgrain, oilseeds'] != 0].tolist()\n",
        "k = [names_dict[item] for item in list_of_officers_region_index]\n"
      ],
      "metadata": {
        "id": "8-vuz9mS9jSS"
      },
      "execution_count": 103,
      "outputs": []
    },
    {
      "cell_type": "code",
      "source": [
        "regions_list = {}\n",
        "sectors_list = {}\n",
        "\n",
        "for region in territories.columns:\n",
        "  list_of_officers_region_index = territories.index[territories[region] != 0].tolist()\n",
        "  list_of_officers = [names_dict[item] for item in list_of_officers_region_index]\n",
        "  regions_list[region] = list_of_officers\n",
        "\n",
        "for sector in products.columns:\n",
        "  list_of_officers_products_index = products.index[products[sector] != 0].tolist()\n",
        "  list_of_officers = [names_dict[item] for item in list_of_officers_products_index]\n",
        "  sectors_list[sector] = list_of_officers\n"
      ],
      "metadata": {
        "id": "t8qz1WQxOodL"
      },
      "execution_count": 105,
      "outputs": []
    },
    {
      "cell_type": "code",
      "source": [
        "summary = pd.read_excel(\"/content/Summary_ITS_specialisation.xlsx\", sheet_name=\"Summary\", header=0, index_col=0)\n",
        "summary.fillna('', inplace=True)\n",
        "final = pd.concat([products, territories], axis=1)\n",
        "index_values = summary.index.to_list()\n",
        "index_values.append(\"List of officers\")\n",
        "index_values"
      ],
      "metadata": {
        "id": "G39FgIPLXK-P",
        "colab": {
          "base_uri": "https://localhost:8080/"
        },
        "outputId": "522b7630-4eb3-4386-bce4-1471f6bb634b"
      },
      "execution_count": 207,
      "outputs": [
        {
          "output_type": "execute_result",
          "data": {
            "text/plain": [
              "['Agri - fruits and vegetables, cereals, foodgrain, oilseeds',\n",
              " 'Agri - dairy and processed foods + Agri - speciality, botanical, lac and gum, medicinal and herbal ',\n",
              " 'Agri - Livestock, marine',\n",
              " 'Basic Chemicals and Dyes- organic and inorganic compounds including Petroleum products',\n",
              " 'Pharma - Bulk drugs/API, chemical formulations, research and development, medical and surgical instruments',\n",
              " 'Plastic, Rubber and their products',\n",
              " 'Leather and leather products',\n",
              " 'Handicraft items, Handloom including carpets (both hand and machine made), Sports goods',\n",
              " 'Textile and apparel - natural fibre based (cotton, silk, wool)',\n",
              " 'Textile and Apparel  - synthetic fibre based - including technical and sportswear',\n",
              " 'Gems and Jewelry',\n",
              " 'Automobiles and auto anicilliaries - including E-vehicles and parts',\n",
              " 'Engineering goods - non automotive (aeroplanes/aircraft, heavy machinery, machine tools, boilers etc)',\n",
              " 'Electronics - communication (cellphones, mobile phones, internet, routers, including mobile phone infrastructure 4G/5G) and non communication based (computers, accessories, research electronics, defense electronics etc)',\n",
              " 'Software and software development services including IT enabled services such as KPO, LPOs etc.',\n",
              " 'Services other than IT and ITeS (transportation, tourism, education, medical tourism etc.)',\n",
              " 'Project exports',\n",
              " 'List of officers']"
            ]
          },
          "metadata": {},
          "execution_count": 207
        }
      ]
    },
    {
      "cell_type": "code",
      "source": [
        "sum_list = {}\n",
        "for item in range(final.shape[0]): \n",
        "   sum_list[str(item + 1.0)] = dict(final.iloc[item])"
      ],
      "metadata": {
        "id": "RLJ-rNtY-tjn"
      },
      "execution_count": 208,
      "outputs": []
    },
    {
      "cell_type": "code",
      "source": [
        "rows = list(summary.index.values)\n",
        "columns = list(summary.columns)"
      ],
      "metadata": {
        "id": "HD6PFOOSCTCn"
      },
      "execution_count": 209,
      "outputs": []
    },
    {
      "cell_type": "code",
      "source": [
        "def process_officer(x, names_dict, dict_x, rows, columns):\n",
        "  '''\n",
        "  function that processes the officers and places the tick\n",
        "  '''\n",
        "  # delete existing values to prevent adding to existing values\n",
        "  summary.fillna('', inplace=True)\n",
        "  for sector in rows:\n",
        "    if dict_x[sector]:\n",
        "      for region in columns:\n",
        "        if dict_x[region]:\n",
        "          if summary.loc[sector][region] is '':\n",
        "            summary.loc[sector][region] = names_dict[float(x)]\n",
        "          else:\n",
        "            summary.loc[sector][region] += \", \" + names_dict[float(x)]"
      ],
      "metadata": {
        "id": "w80qT5lne-X3"
      },
      "execution_count": 210,
      "outputs": []
    },
    {
      "cell_type": "code",
      "source": [
        "for item in sum_list:\n",
        "  process_officer(item, names_dict, sum_list[item], rows, columns)"
      ],
      "metadata": {
        "id": "GnuzzUDge-d2"
      },
      "execution_count": 211,
      "outputs": []
    },
    {
      "cell_type": "code",
      "source": [
        "summary[\"List of officers interested\"] = pd.Series(sectors_list).values\n",
        "#summary.loc[\"List of officers interested\"] = pd.Series(regions_list).values\n",
        "#new = pd.Series(regions_list)\n",
        "summary = summary.append(pd.Series(regions_list), ignore_index=True)\n",
        "summary.index = index_values"
      ],
      "metadata": {
        "id": "AJHXNCnx2vhg"
      },
      "execution_count": 212,
      "outputs": []
    },
    {
      "cell_type": "code",
      "source": [
        "summary.to_excel(\"/content/Summary_final.xlsx\", header=True, index=True)"
      ],
      "metadata": {
        "id": "LfAnFg-qe-lC"
      },
      "execution_count": 214,
      "outputs": []
    }
  ]
}