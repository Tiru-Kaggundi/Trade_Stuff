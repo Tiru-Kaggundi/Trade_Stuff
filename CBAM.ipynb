{
  "nbformat": 4,
  "nbformat_minor": 0,
  "metadata": {
    "colab": {
      "provenance": [],
      "authorship_tag": "ABX9TyN/RcHxgrgvCcZXEYqR/3Hx",
      "include_colab_link": true
    },
    "kernelspec": {
      "name": "python3",
      "display_name": "Python 3"
    },
    "language_info": {
      "name": "python"
    }
  },
  "cells": [
    {
      "cell_type": "markdown",
      "metadata": {
        "id": "view-in-github",
        "colab_type": "text"
      },
      "source": [
        "<a href=\"https://colab.research.google.com/github/Tiru-Kaggundi/Trade_Stuff/blob/main/CBAM.ipynb\" target=\"_parent\"><img src=\"https://colab.research.google.com/assets/colab-badge.svg\" alt=\"Open In Colab\"/></a>"
      ]
    },
    {
      "cell_type": "code",
      "execution_count": 1,
      "metadata": {
        "id": "okYGqIoHCRoM"
      },
      "outputs": [],
      "source": [
        "# Import necessary libraries\n",
        "import pandas as pd\n",
        "import matplotlib.pyplot as plt\n",
        "import numpy as np\n",
        "import math"
      ]
    },
    {
      "cell_type": "code",
      "source": [
        "from google.colab import drive\n",
        "drive.mount('/content/drive')\n"
      ],
      "metadata": {
        "id": "kfoZkTCTEwuL"
      },
      "execution_count": null,
      "outputs": []
    },
    {
      "cell_type": "code",
      "source": [
        "# Read in the data from the Excel sheet\n",
        "file_path = '/content/drive/MyDrive/CBAM/CBAM_DATA_V3.xlsx'\n",
        "file_path_owid = \"/content/drive/MyDrive/CBAM/owid_co2_data.xlsx\"\n",
        "data = pd.read_excel(file_path, sheet_name='data')\n",
        "df_owid = pd.read_excel(file_path_owid)"
      ],
      "metadata": {
        "id": "GrFwQXuAEIpE"
      },
      "execution_count": null,
      "outputs": []
    },
    {
      "cell_type": "code",
      "source": [
        "data.head()"
      ],
      "metadata": {
        "id": "0Et9gUzPFNAD"
      },
      "execution_count": null,
      "outputs": []
    },
    {
      "cell_type": "code",
      "source": [
        "df_owid.head()"
      ],
      "metadata": {
        "id": "LZqNS2YNGfkj"
      },
      "execution_count": null,
      "outputs": []
    },
    {
      "cell_type": "code",
      "source": [
        "\n",
        "# Create a subset of the data that only includes the columns we want to plot\n",
        "subset = data[['Country', 'per_capita_emissions_2019', 'cumulative_emissions_2020', 'GDP']]\n",
        "\n",
        "# Define a function to calculate the size of the bubbles based on GDP\n",
        "def calc_bubble_size(gdp):\n",
        "    return np.log(gdp / np.pi)\n",
        "\n",
        "# Create a new column in the subset that contains the bubble sizes\n",
        "subset['Bubble Size'] = calc_bubble_size(subset['GDP'])\n",
        "\n",
        "# Define the x-axis and y-axis variables\n",
        "x = subset['per_capita_emissions_2019']\n",
        "y = subset['cumulative_emissions_2020']\n"
      ],
      "metadata": {
        "id": "fNPkVdhlEJ31"
      },
      "execution_count": null,
      "outputs": []
    },
    {
      "cell_type": "code",
      "source": [
        "\n",
        "# Create the bubble plot\n",
        "fig, ax = plt.subplots(figsize=(16, 12))\n",
        "ax.scatter(x, y, s=subset['Bubble Size'], c=subset['per_capita_emissions_2019'], cmap='twilight', alpha=0.9)\n",
        "\n",
        "# Add the horizontal line for India's cumulative emissions\n",
        "india_cumulative_emissions = subset[subset['Country'] == 'India']['cumulative_emissions_2020'].values[0]\n",
        "ax.axhline(india_cumulative_emissions, color='red', linestyle='--')\n",
        "\n",
        "# Add the vertical line for India's per capita emissions\n",
        "india_per_capita_emissions = subset[subset['Country'] == 'India']['per_capita_emissions_2019'].values[0]\n",
        "ax.axvline(india_per_capita_emissions, color='red', linestyle='--')\n",
        "\n",
        "# Set the x-axis and y-axis labels\n",
        "ax.set_xlabel('Per Capita Emissions (2019)')\n",
        "ax.set_ylabel('Cumulative Emissions (2020)')\n",
        "\n",
        "# Show the plot\n",
        "plt.show()"
      ],
      "metadata": {
        "id": "9elo37BhEUMf"
      },
      "execution_count": null,
      "outputs": []
    },
    {
      "cell_type": "code",
      "source": [
        "# Set up plot\n",
        "fig, ax = plt.subplots(figsize=(12, 12))\n",
        "fig.set_facecolor('white')\n",
        "\n",
        "# Extract data for India\n",
        "india = data[data['Country'] == 'India']\n",
        "india_x = india['per_capita_emissions_2019'].iloc[0]\n",
        "india_y = india['cumulative_emissions_2020'].iloc[0]\n",
        "\n",
        "# Set up colors for each country\n",
        "#colors = {'India': 'red', 'China': 'blue', 'United States': 'green', 'Russia': 'purple', 'Japan': 'orange'}\n",
        "\n",
        "# Sort data by GDP in descending order and extract top 15 rows\n",
        "top_15 = data.sort_values('GDP', ascending=False).head(15)\n",
        "\n",
        "# Sort data by per capita emissions in descending order and extract top 3 rows\n",
        "top_3_emittors = data.sort_values('per_capita_emissions_2019', ascending=False).head(3)\n",
        "\n",
        "# Set up scaling factor for bubble size\n",
        "scale_factor = 2000000000\n",
        "\n",
        "# Plot bubbles for each country\n",
        "for country in data['Country'].unique():\n",
        "    subset = data[data['Country'] == country]\n",
        "    x = subset['per_capita_emissions_2019']\n",
        "    y = subset['cumulative_emissions_2020']\n",
        "    size = subset['GDP'] / scale_factor\n",
        "    alpha = 0.6\n",
        "    if country == 'India':\n",
        "        alpha = 1.0\n",
        "    ax.scatter(x, y, s=size, alpha=alpha)\n",
        "\n",
        "# Add horizontal and vertical lines for India\n",
        "ax.axhline(y=india_y, linestyle='--', color='red', alpha=0.5)\n",
        "ax.axvline(x=india_x, linestyle='--', color='red', alpha=0.5)\n",
        "\n",
        "\n",
        "# Add text labels for top 20 countries by GDP\n",
        "for i, row in top_15.iterrows():\n",
        "    x = row['per_capita_emissions_2019']\n",
        "    y = row['cumulative_emissions_2020']\n",
        "    label = row['Country']\n",
        "    ax.annotate(label, xy=(x, y), xytext=(-10, 5), textcoords='offset points', fontsize=10)\n",
        "\n",
        "# Add text labels for top 3 countries by per capita emissions\n",
        "for i, row in top_3_emittors.iterrows():\n",
        "    x = row['per_capita_emissions_2019']\n",
        "    y = row['cumulative_emissions_2020']\n",
        "    label = row['Country']\n",
        "    ax.annotate(label, xy=(x, y), xytext=(-10, 5), textcoords='offset points', fontsize=10)\n",
        "\n",
        "\n",
        "# Set axis labels and title\n",
        "ax.set_xlabel('Per Capita Emissions in 2019')\n",
        "ax.set_ylabel('Cumulative Emissions upto 2020')\n",
        "ax.set_title('Bubble Plot : Cumulative and per capita emissions axes')\n",
        "\n",
        "plt.savefig('CBAM.png', bbox_inches='tight', dpi=300)\n",
        "plt.show()"
      ],
      "metadata": {
        "id": "WqfLtrmpGXql"
      },
      "execution_count": null,
      "outputs": []
    },
    {
      "cell_type": "code",
      "source": [
        "# Set up plot for the end part of the movie\n",
        "fig, ax = plt.subplots(figsize=(16, 12))\n",
        "fig.set_facecolor('white')\n",
        "\n",
        "# Extract data for India\n",
        "india = data[data['Country'] == 'India']\n",
        "india_y = india['per_capita_emissions_2019'].iloc[0]\n",
        "india_x = india['cumulative_emissions_2020'].iloc[0]\n",
        "\n",
        "# Set up colors for each country\n",
        "#colors = {'India': 'red', 'China': 'blue', 'United States': 'green', 'Russia': 'purple', 'Japan': 'orange'}\n",
        "\n",
        "# Sort data by GDP in descending order and extract top 15 rows\n",
        "top_15 = data.sort_values('GDP', ascending=False).head(15)\n",
        "\n",
        "# Sort data by per capita emissions in descending order and extract top 3 rows\n",
        "top_3_emittors = data.sort_values('per_capita_emissions_2019', ascending=False).head(3)\n",
        "\n",
        "# Set up scaling factor for bubble size\n",
        "scale_factor = 2000000000\n",
        "\n",
        "# Plot bubbles for each country\n",
        "for country in data['Country'].unique():\n",
        "    subset = data[data['Country'] == country]\n",
        "    y = subset['per_capita_emissions_2019']\n",
        "    x = subset['cumulative_emissions_2020']\n",
        "    size = subset['GDP'] / scale_factor\n",
        "    alpha = 0.6\n",
        "    if country == 'India':\n",
        "        alpha = 1.0\n",
        "    ax.scatter(x, y, s=size, alpha=alpha)\n",
        "\n",
        "# Add horizontal and vertical lines for India\n",
        "ax.axhline(y=india_y, linestyle='--', color='red', alpha=0.5)\n",
        "ax.axvline(x=india_x, linestyle='--', color='red', alpha=0.5)\n",
        "\n",
        "\n",
        "# Add text labels for top 20 countries by GDP\n",
        "for i, row in top_15.iterrows():\n",
        "    y = row['per_capita_emissions_2019']\n",
        "    x = row['cumulative_emissions_2020']\n",
        "    label = row['Country']\n",
        "    ax.annotate(label, xy=(x, y), xytext=(-10, 5), textcoords='offset points', fontsize=10)\n",
        "\n",
        "# Add text labels for top 3 countries by per capita emissions\n",
        "for i, row in top_3_emittors.iterrows():\n",
        "    y = row['per_capita_emissions_2019']\n",
        "    x = row['cumulative_emissions_2020']\n",
        "    label = row['Country']\n",
        "    ax.annotate(label, xy=(x, y), xytext=(-10, 5), textcoords='offset points', fontsize=10)\n",
        "\n",
        "\n",
        "# Set axis labels and title\n",
        "ax.set_ylabel('Per Capita Emissions (tonnes of CO2)')\n",
        "ax.set_xlabel('Cumulative Emissions (tonnes of CO2)')\n",
        "ax.set_title('Where are we today (2023)', fontweight = \"bold\", color='#8C3F3F')\n",
        "\n",
        "plt.savefig('CBAM_FINAL.png', dpi=300)\n",
        "plt.show()"
      ],
      "metadata": {
        "id": "FDNOyJbkqg5g"
      },
      "execution_count": null,
      "outputs": []
    },
    {
      "cell_type": "code",
      "source": [
        "df_owid.fillna(0, inplace=True)"
      ],
      "metadata": {
        "id": "TRf20LueEfL2"
      },
      "execution_count": null,
      "outputs": []
    },
    {
      "cell_type": "code",
      "source": [
        "df_owid.head()"
      ],
      "metadata": {
        "id": "1-YcroM-EfOQ"
      },
      "execution_count": null,
      "outputs": []
    },
    {
      "cell_type": "code",
      "source": [
        "df_owid.columns"
      ],
      "metadata": {
        "id": "F9N2WCNIEfTn"
      },
      "execution_count": null,
      "outputs": []
    },
    {
      "cell_type": "code",
      "source": [
        "df_owid_sel = df_owid[['country', 'year', 'iso_code', 'population', 'gdp','co2','co2_per_capita', 'co2_per_gdp','co2_including_luc', 'co2_including_luc_per_capita','co2_including_luc_per_gdp', 'cumulative_co2',\n",
        "       'cumulative_co2_including_luc', 'energy_per_capita','energy_per_gdp', 'total_ghg','trade_co2', 'trade_co2_share']]"
      ],
      "metadata": {
        "id": "GxxFFEX1EfWJ"
      },
      "execution_count": null,
      "outputs": []
    },
    {
      "cell_type": "code",
      "source": [
        "df_owid_sel.columns\n"
      ],
      "metadata": {
        "id": "5qpO23jwEfY8"
      },
      "execution_count": null,
      "outputs": []
    },
    {
      "cell_type": "code",
      "source": [
        "df_owid_sel.head()\n"
      ],
      "metadata": {
        "id": "0Jka2c9aEfbK"
      },
      "execution_count": null,
      "outputs": []
    },
    {
      "cell_type": "code",
      "source": [
        "df_owid_sel.country.unique()"
      ],
      "metadata": {
        "id": "f5L5Z1jxEfd1"
      },
      "execution_count": null,
      "outputs": []
    },
    {
      "cell_type": "code",
      "source": [
        "countries_to_keep = [\n",
        "       'Albania', 'Algeria', 'Andorra', 'Angola', 'Antigua and Barbuda', 'Argentina',\n",
        "       'Armenia', 'Australia', 'Austria',\n",
        "       'Azerbaijan', 'Bahamas', 'Bahrain', 'Bangladesh', 'Barbados',\n",
        "       'Belarus', 'Belgium', 'Belize', 'Benin', 'Bermuda', 'Bhutan',\n",
        "       'Bolivia', 'Brazil', 'Brunei', 'Bulgaria', 'Burkina Faso',\n",
        "       'Burundi', 'Cambodia', 'Cameroon', 'Canada', 'Cape Verde',\n",
        "       'Central African Republic', 'Chad',\n",
        "       'Chile', 'China', 'Colombia', 'Comoros',\n",
        "       'Congo', 'Costa Rica', \"Cote d'Ivoire\", 'Croatia',\n",
        "       'Cuba', 'Curacao', 'Cyprus', 'Czechia',\n",
        "       'Democratic Republic of Congo', 'Denmark', 'Djibouti', 'Dominica',\n",
        "       'Dominican Republic', 'Ecuador', 'Egypt', 'El Salvador',\n",
        "       'Equatorial Guinea', 'Eritrea', 'Estonia', 'Eswatini', 'Ethiopia', 'European Union (28)', 'Falkland Islands', 'Fiji', 'Finland', 'France', 'Gabon', 'Gambia',\n",
        "       'Georgia', 'Germany', 'Ghana', 'Greece', 'Greenland', 'Grenada',\n",
        "       'Guatemala', 'Guinea', 'Guinea-Bissau',\n",
        "       'Guyana', 'Haiti', 'Honduras',\n",
        "       'Hong Kong', 'Hungary', 'Iceland', 'India', 'Indonesia', 'Iran', 'Iraq', 'Ireland', 'Israel', 'Italy', 'Jamaica', 'Japan', 'Jersey',\n",
        "       'Jordan', 'Kazakhstan', 'Kenya', 'Kiribati', 'Kosovo', 'Kuwait', 'Kyrgyzstan', 'Laos', 'Latvia',\n",
        "       'Lebanon', 'Lesotho', 'Liberia', 'Libya',\n",
        "       'Liechtenstein', 'Lithuania', 'Luxembourg', 'Macao',\n",
        "       'Madagascar', 'Malawi', 'Malaysia', 'Maldives', 'Mali', 'Malta',\n",
        "       'Marshall Islands', 'Martinique', 'Mauritania', 'Mauritius', 'Mexico', 'Micronesia (country)',\n",
        "       'Moldova', 'Mongolia', 'Montenegro',  'Morocco',\n",
        "       'Mozambique', 'Myanmar', 'Namibia', 'Nauru', 'Nepal',\n",
        "       'Netherlands', 'Netherlands Antilles', 'New Caledonia',\n",
        "       'New Zealand', 'Nicaragua', 'Niger', 'Nigeria',  'North Korea',\n",
        "       'Norway',  'Oceania', 'Oman',\n",
        "       'Pakistan', 'Palau', 'Palestine', 'Panama', 'Papua New Guinea', 'Paraguay', 'Peru',\n",
        "       'Philippines', 'Poland', 'Portugal', 'Puerto Rico', 'Qatar', 'Romania', 'Russia', 'Rwanda',  'Samoa','Saudi Arabia', 'Senegal', 'Serbia',\n",
        "       'Seychelles', 'Sierra Leone', 'Singapore', 'Slovakia', 'Slovenia',\n",
        "       'Solomon Islands', 'Somalia', 'South Africa', 'South Korea', 'South Sudan', 'Spain',\n",
        "       'Sri Lanka',  'Sudan', 'Suriname', 'Sweden', 'Switzerland', 'Syria',\n",
        "       'Taiwan', 'Tajikistan', 'Tanzania', 'Thailand', 'Timor', 'Togo',\n",
        "       'Tonga', 'Trinidad and Tobago', 'Tunisia', 'Turkey',\n",
        "       'Turkmenistan',  'Tuvalu', 'Uganda',\n",
        "       'Ukraine', 'United Arab Emirates', 'United Kingdom',\n",
        "       'United States', 'Uruguay', 'Uzbekistan',\n",
        "       'Vanuatu', 'Venezuela', 'Vietnam',  'Yemen', 'Zambia', 'Zimbabwe']\n",
        "\n"
      ],
      "metadata": {
        "id": "2AO-V3V6EfgH"
      },
      "execution_count": null,
      "outputs": []
    },
    {
      "cell_type": "code",
      "source": [
        "df_owid_few = df_owid_sel[df_owid_sel.country.isin(countries_to_keep)]"
      ],
      "metadata": {
        "id": "DcFd4XRR9FOe"
      },
      "execution_count": null,
      "outputs": []
    },
    {
      "cell_type": "markdown",
      "source": [
        "need to install the following: \n",
        "!pip install imageio\n",
        "!pip install pillow numpy\n",
        "!pip install ffmpeg\n",
        "!pip install pillow\n",
        "!pip install scipy"
      ],
      "metadata": {
        "id": "RggyzY8cq8vY"
      }
    },
    {
      "cell_type": "code",
      "source": [
        "from matplotlib.animation import FuncAnimation\n",
        "\n",
        "columns = ['country', 'year', 'co2_per_capita', 'cumulative_co2', 'gdp']\n",
        "df = df_owid_few[columns]\n",
        "\n",
        "# Create a dictionary of country to color mappings\n",
        "countries = df['country'].unique()\n",
        "colors = plt.cm.tab20(np.linspace(0, 1, len(countries)))\n",
        "country_to_color = dict(zip(countries, colors))\n",
        "\n",
        "# Set the font size for the plot labels and annotations\n",
        "plt.rcParams.update({'font.size': 14})\n",
        "\n",
        "# Set the figure size and dpi for the animation\n",
        "fig = plt.figure(figsize=(16, 12), dpi=300)\n",
        "\n",
        "# Define a function to create the bubble plot for a given year\n",
        "def create_bubble_plot(year):\n",
        "    # Select the data for the given year\n",
        "    data = df[df['year'] == year]\n",
        "\n",
        "    # Sort the data by GDP\n",
        "    data = data.sort_values('gdp', ascending=False)\n",
        "\n",
        "    # Get the top 15 countries by GDP\n",
        "    top_countries = data.iloc[:15]['country'].tolist()\n",
        "\n",
        "    # Set the size of the bubbles proportional to GDP\n",
        "    sizes = data['gdp'] / 0.15e10\n",
        "\n",
        "    # Set the color of the bubbles based on the country\n",
        "    colors = [country_to_color[country] for country in data['country']]\n",
        "\n",
        "    # Set the x-axis to cumulative CO2 emissions\n",
        "    x = data['cumulative_co2']\n",
        "\n",
        "    # Set the y-axis to CO2 emissions per capita\n",
        "    y = data['co2_per_capita']\n",
        "\n",
        "    # Clear the previous plot\n",
        "    plt.cla()\n",
        "\n",
        "    # Add the bubbles to the plot\n",
        "    plt.scatter(x, y, s=sizes, c=colors, alpha=0.5)\n",
        "\n",
        "    # Add labels to the bubbles for the top 10 countries by GDP\n",
        "    for i, country in enumerate(data['country']):\n",
        "        if country in top_countries:\n",
        "            plt.annotate(country, (x.iloc[i], y.iloc[i]), ha='center', va='center')\n",
        "\n",
        "    # Set the axis labels and title\n",
        "    plt.xlabel('Cumulative Historical CO2 Emissions (tonnes of CO2)')\n",
        "    plt.ylabel('Per Capita CO2 Emissions (tonnes of CO2)')\n",
        "    plt.title(f'THE RISE OF CARBON EMISSIONS - 1850 TO 2018', fontweight = \"bold\", color='#8C3F3F')\n",
        "\n",
        "    # Set the axis limits\n",
        "    plt.xlim(0, 5e5)\n",
        "    plt.ylim(0, 25)\n",
        "    \n",
        "    plt.annotate('Year: {}'.format(year), xy=(0.5, 0.98), xycoords='axes fraction', fontsize=20, fontweight = \"bold\", \n",
        "                 color = \"Blue\", ha='center', va='top')\n",
        "\n",
        "    # Add text commentary\n",
        "    if year <= 1870:\n",
        "        plt.annotate(\"Many advanced economies of today had colonies,\", xy=(0.5, 0.95), xycoords='axes fraction',  color='#8C3F3F', fontsize=18, ha='center', va='top', fontweight = \"bold\")\n",
        "        plt.annotate(\"and were industrialising at a rapid pace\", xy=(0.5, 0.90), xycoords='axes fraction', color='#8C3F3F', fontsize=18, ha='center', va='top', fontweight = \"bold\")\n",
        "        plt.annotate(\"causing pollution and CO2 emissions\", xy=(0.5, 0.85), xycoords='axes fraction',color='#8C3F3F', fontsize=18, ha='center', va='top', fontweight = \"bold\")\n",
        "    if (year > 1870 and year <= 1908):\n",
        "        plt.annotate(\"The emissions were a by-product,\", xy=(0.5, 0.95), xycoords='axes fraction',color='#8C3F3F', fontsize=18, ha='center', va='top', fontweight = \"bold\")\n",
        "        plt.annotate(\"of the human quest to industrialize,\", xy=(0.5, 0.9), xycoords='axes fraction', color='#8C3F3F', fontsize=18, ha='center', va='top', fontweight = \"bold\")\n",
        "        plt.annotate(\"and to advance the civilization towards prosperity.\", xy=(0.5, 0.85), xycoords='axes fraction', color='#8C3F3F', fontsize=18, ha='center', va='top', fontweight = \"bold\")      \n",
        "    if (year > 1909 and year <= 1924):\n",
        "        plt.annotate(\"Then came the WWI,\", xy=(0.5, 0.95), xycoords='axes fraction', color='#8C3F3F',fontsize=18, ha='center', va='top', fontweight = \"bold\")\n",
        "        plt.annotate(\"leading to rapid rise in emissions,\", xy=(0.5, 0.9), xycoords='axes fraction', color='#8C3F3F', fontsize=18, ha='center', va='top', fontweight = \"bold\")\n",
        "        plt.annotate(\"and industrialization.\", xy=(0.5, 0.85), xycoords='axes fraction', color='#8C3F3F', fontsize=18, ha='center', va='top', fontweight = \"bold\")    \n",
        "    if (year > 1924 and year <= 1939):\n",
        "        plt.annotate(\"The Great depression saw some slowdown,\", xy=(0.5, 0.95), xycoords='axes fraction', color='#8C3F3F', fontsize=18, ha='center', va='top', fontweight = \"bold\") \n",
        "        plt.annotate(\"reminding us that what's perhaps bad for humans,\", xy=(0.5, 0.9), xycoords='axes fraction',color='#8C3F3F',  fontsize=18, ha='center', va='top', fontweight = \"bold\")\n",
        "        plt.annotate(\"might be good for the planet.\", xy=(0.5, 0.85), xycoords='axes fraction', color='#8C3F3F', fontsize=18, ha='center', va='top', fontweight = \"bold\")\n",
        "    if (year > 1939 and year <= 1949):\n",
        "        plt.annotate(\"But as humans, we can't stop,\", xy=(0.5, 0.95), xycoords='axes fraction', color='#8C3F3F', fontsize=18, ha='center', va='top', fontweight = \"bold\") \n",
        "        plt.annotate(\"and we promptly plunged into WWII,\", xy=(0.5, 0.9), xycoords='axes fraction', color='#8C3F3F', fontsize=18, ha='center', va='top', fontweight = \"bold\")      \n",
        "    if (year > 1949 and year <= 1960):\n",
        "        plt.annotate(\"then came the reconstruction and development,\", xy=(0.5, 0.95), xycoords='axes fraction', color='#8C3F3F', fontsize=18, ha='center', va='top', fontweight = \"bold\")  \n",
        "        plt.annotate(\"more cars, more industries and greater prosperity,\", xy=(0.5, 0.9), xycoords='axes fraction', color='#8C3F3F', fontsize=18, ha='center', va='top', fontweight = \"bold\")\n",
        "        plt.annotate(\"to the CO2 emittors.\", xy=(0.5, 0.85), xycoords='axes fraction', color='#8C3F3F', fontsize=18, ha='center', va='top', fontweight = \"bold\")\n",
        "    if (year > 1960 and year <= 1980):\n",
        "        plt.annotate(\"The Boomer generation came along\", xy=(0.5, 0.95), xycoords='axes fraction', color='#8C3F3F', fontsize=18, ha='center', va='top', fontweight = \"bold\") \n",
        "        plt.annotate(\"with more CO2 and prosperity like never before,\", xy=(0.5, 0.9), xycoords='axes fraction', color='#8C3F3F', fontsize=18, ha='center', va='top', fontweight = \"bold\")\n",
        "        plt.annotate(\"but things changed hereafter.\", xy=(0.5, 0.85), xycoords='axes fraction',color='#8C3F3F',  fontsize=18, ha='center', va='top', fontweight = \"bold\")\n",
        "    if (year > 1980 and year <= 2000):\n",
        "        plt.annotate(\"CHINA came on the stage\", xy=(0.5, 0.95), xycoords='axes fraction', color='#8C3F3F', fontsize=18, ha='center', va='top', fontweight = \"bold\")\n",
        "        plt.annotate(\"followed by other countries that started catching up,\", xy=(0.5, 0.9), xycoords='axes fraction', color='#8C3F3F', fontsize=18, ha='center', va='top', fontweight = \"bold\")\n",
        "        plt.annotate(\"like India.\", xy=(0.5, 0.85), xycoords='axes fraction',color='#8C3F3F', fontsize=18, ha='center', va='top', fontweight = \"bold\")\n",
        "    if (year > 2000 and year <= 2018):\n",
        "        plt.annotate(\"And now...the original sinners,\", xy=(0.5, 0.95), xycoords='axes fraction', color='#8C3F3F', fontsize=18, ha='center', va='top', fontweight = \"bold\")\n",
        "        plt.annotate(\"historical CO2 emittors,\", xy=(0.5, 0.9), xycoords='axes fraction', color='#8C3F3F', fontsize=18, ha='center', va='top', fontweight = \"bold\")\n",
        "        plt.annotate(\"have become Climate Preachers.\", xy=(0.5, 0.85), xycoords='axes fraction', color='#8C3F3F', fontsize=18, ha='center', va='top', fontweight = \"bold\")\n",
        "        \n",
        "# Create the animation\n",
        "animation = FuncAnimation(fig, create_bubble_plot, frames=years, interval=100, repeat=False)\n",
        "\n",
        "# Save the animation as a GIF\n",
        "animation.save('CBAM_animation_annotated_final.gif', writer='imagemagick', fps=3)\n",
        "\n",
        "# Show the animation\n",
        "plt.show()\n"
      ],
      "metadata": {
        "id": "AkHAFUPP8CUc"
      },
      "execution_count": null,
      "outputs": []
    }
  ]
}